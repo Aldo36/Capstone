{
 "cells": [
  {
   "cell_type": "markdown",
   "metadata": {},
   "source": [
    "| Points  | Played  | Value  | Position  |\n",
    "|---------|:-------:|:------:|:----------:|\n",
    "| 168 | 27 | 13.2 | M |\n",
    "| 154 | 28 | 12.0 | F |\n",
    "| 120 | 25 | 10.4 | M |\n",
    "| 127 | 23 | 9.5 | M |\n",
    "| 138 | 26 | 11.3 | F |\n",
    "| 105 | 19 | 7.8 | F |"
   ]
  },
  {
   "cell_type": "code",
   "execution_count": null,
   "metadata": {},
   "outputs": [],
   "source": []
  }
 ],
 "metadata": {
  "kernelspec": {
   "display_name": "Python 3",
   "language": "python",
   "name": "python3"
  },
  "language_info": {
   "codemirror_mode": {
    "name": "ipython",
    "version": 3
   },
   "file_extension": ".py",
   "mimetype": "text/x-python",
   "name": "python",
   "nbconvert_exporter": "python",
   "pygments_lexer": "ipython3",
   "version": "3.7.3"
  }
 },
 "nbformat": 4,
 "nbformat_minor": 2
}
